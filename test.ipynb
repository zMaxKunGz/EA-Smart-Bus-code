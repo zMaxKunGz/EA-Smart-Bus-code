{
 "cells": [
  {
   "cell_type": "code",
   "execution_count": 3,
   "metadata": {},
   "outputs": [],
   "source": [
    "import torch\n",
    "from ultralytics import YOLO\n",
    "import cv2"
   ]
  },
  {
   "cell_type": "code",
   "execution_count": 4,
   "metadata": {},
   "outputs": [
    {
     "data": {
      "text/plain": [
       "True"
      ]
     },
     "execution_count": 4,
     "metadata": {},
     "output_type": "execute_result"
    }
   ],
   "source": [
    "torch.cuda.is_available()"
   ]
  },
  {
   "cell_type": "code",
   "execution_count": 6,
   "metadata": {},
   "outputs": [
    {
     "name": "stderr",
     "output_type": "stream",
     "text": [
      "[ WARN:0@139.354] global cap_v4l.cpp:997 open VIDEOIO(V4L2:/dev/video0): can't open camera by index\n",
      "[ERROR:0@139.354] global obsensor_uvc_stream_channel.cpp:159 getStreamChannelGroup Camera index out of range\n"
     ]
    }
   ],
   "source": [
    "# Load the YOLOv8 model\n",
    "model = YOLO('yolov8n.pt')\n",
    "\n",
    "# Open the video file\n",
    "video_path = 0\n",
    "cap = cv2.VideoCapture(video_path)\n",
    "\n",
    "# Loop through the video frames\n",
    "while cap.isOpened():\n",
    "    print(\"test\")\n",
    "    # Read a frame from the video\n",
    "    success, frame = cap.read()\n",
    "\n",
    "    if success:\n",
    "        # Run YOLOv8 inference on the frame\n",
    "        results = model(frame)\n",
    "\n",
    "        # Visualize the results on the frame\n",
    "        annotated_frame = results[0].plot()\n",
    "\n",
    "        # Display the annotated frame\n",
    "        cv2.imshow(\"YOLOv8 Inference\", annotated_frame)\n",
    "\n",
    "        # Break the loop if 'q' is pressed\n",
    "        if cv2.waitKey(1) & 0xFF == ord(\"q\"):\n",
    "            break\n",
    "    else:\n",
    "        # Break the loop if the end of the video is reached\n",
    "        break\n",
    "\n",
    "# Release the video capture object and close the display window\n",
    "cap.release()\n",
    "cv2.destroyAllWindows()\n"
   ]
  },
  {
   "cell_type": "code",
   "execution_count": 1,
   "metadata": {},
   "outputs": [],
   "source": [
    "import cv2\n",
    "from ultralytics import YOLO\n",
    "model = YOLO(\"yolov8n.pt\")\n",
    "cap = cv2.VideoCapture(0)\n",
    "if cap.isOpened():\n",
    "    window_handle = cv2.namedWindow(\"CSI Camera\", cv2.WINDOW_AUTOSIZE)\n",
    "    # Window\n",
    "    while cv2.getWindowProperty(\"CSI Camera\", 0) >= 0:\n",
    "        ret, frame = cap.read()\n",
    "\n",
    "        print(\"test\")\n",
    "        # Read a frame from the video\n",
    "        success, frame = cap.read()\n",
    "\n",
    "        if success:\n",
    "            # Run YOLOv8 inference on the frame\n",
    "            results = model(frame)\n",
    "\n",
    "            # Visualize the results on the frame\n",
    "            annotated_frame = results[0].plot()\n",
    "\n",
    "            # # Display the annotated frame\n",
    "            # cv2.imshow(\"YOLOv8 Inference\", frame)\n",
    "\n",
    "            # # Break the loop if 'q' is pressed\n",
    "            # if cv2.waitKey(1) & 0xFF == ord(\"q\"):\n",
    "            #     break\n",
    "            cv2.imshow(\"CSI Camera\", annotated_frame)\n",
    "            keyCode = cv2.waitKey(30)\n",
    "            if keyCode == ord('q'):\n",
    "                break\n",
    "\n",
    "\n",
    "        # cv2.imshow(\"CSI Camera\", annotated_frame)\n",
    "        # keyCode = cv2.waitKey(30)\n",
    "        # if keyCode == ord('q'):\n",
    "        #     break\n",
    "    cap.release()\n",
    "    cv2.destroyAllWindows()\n",
    "else:\n",
    "    print(\"Unable to open camera\")"
   ]
  },
  {
   "cell_type": "code",
   "execution_count": 1,
   "metadata": {},
   "outputs": [
    {
     "name": "stdout",
     "output_type": "stream",
     "text": [
      "test\n"
     ]
    },
    {
     "ename": "NameError",
     "evalue": "name 'annotated_frame' is not defined",
     "output_type": "error",
     "traceback": [
      "\u001b[0;31m---------------------------------------------------------------------------\u001b[0m",
      "\u001b[0;31mNameError\u001b[0m                                 Traceback (most recent call last)",
      "Cell \u001b[0;32mIn[1], line 28\u001b[0m\n\u001b[1;32m     13\u001b[0m success, frame \u001b[38;5;241m=\u001b[39m cap\u001b[38;5;241m.\u001b[39mread()\n\u001b[1;32m     15\u001b[0m \u001b[38;5;28;01mif\u001b[39;00m success:\n\u001b[1;32m     16\u001b[0m     \u001b[38;5;66;03m# Run YOLOv8 inference on the frame\u001b[39;00m\n\u001b[1;32m     17\u001b[0m     \u001b[38;5;66;03m# results = model(frame)\u001b[39;00m\n\u001b[0;32m   (...)\u001b[0m\n\u001b[1;32m     26\u001b[0m     \u001b[38;5;66;03m# if cv2.waitKey(1) & 0xFF == ord(\"q\"):\u001b[39;00m\n\u001b[1;32m     27\u001b[0m     \u001b[38;5;66;03m#     break\u001b[39;00m\n\u001b[0;32m---> 28\u001b[0m     cv2\u001b[38;5;241m.\u001b[39mimshow(\u001b[38;5;124m\"\u001b[39m\u001b[38;5;124mCSI Camera\u001b[39m\u001b[38;5;124m\"\u001b[39m, \u001b[43mannotated_frame\u001b[49m)\n\u001b[1;32m     29\u001b[0m     keyCode \u001b[38;5;241m=\u001b[39m cv2\u001b[38;5;241m.\u001b[39mwaitKey(\u001b[38;5;241m30\u001b[39m)\n\u001b[1;32m     30\u001b[0m     \u001b[38;5;28;01mif\u001b[39;00m keyCode \u001b[38;5;241m==\u001b[39m \u001b[38;5;28mord\u001b[39m(\u001b[38;5;124m'\u001b[39m\u001b[38;5;124mq\u001b[39m\u001b[38;5;124m'\u001b[39m):\n",
      "\u001b[0;31mNameError\u001b[0m: name 'annotated_frame' is not defined"
     ]
    }
   ],
   "source": [
    "import cv2\n",
    "# from ultralytics import YOLO\n",
    "# model = YOLO(\"yolov8n.pt\")\n",
    "cap = cv2.VideoCapture(0)\n",
    "if cap.isOpened():\n",
    "    window_handle = cv2.namedWindow(\"CSI Camera\", cv2.WINDOW_AUTOSIZE)\n",
    "    # Window\n",
    "    while cv2.getWindowProperty(\"CSI Camera\", 0) >= 0:\n",
    "        ret, frame = cap.read()\n",
    "\n",
    "        print(\"test\")\n",
    "        # Read a frame from the video\n",
    "        success, frame = cap.read()\n",
    "\n",
    "        if success:\n",
    "            # Run YOLOv8 inference on the frame\n",
    "            # results = model(frame)\n",
    "\n",
    "            # # Visualize the results on the frame\n",
    "            # annotated_frame = results[0].plot()\n",
    "\n",
    "            # # Display the annotated frame\n",
    "            # cv2.imshow(\"YOLOv8 Inference\", frame)\n",
    "\n",
    "            # # Break the loop if 'q' is pressed\n",
    "            # if cv2.waitKey(1) & 0xFF == ord(\"q\"):\n",
    "            #     break\n",
    "            cv2.imshow(\"CSI Camera\", frame)\n",
    "            keyCode = cv2.waitKey(30)\n",
    "            if keyCode == ord('q'):\n",
    "                break\n",
    "\n",
    "\n",
    "        # cv2.imshow(\"CSI Camera\", annotated_frame)\n",
    "        # keyCode = cv2.waitKey(30)\n",
    "        # if keyCode == ord('q'):\n",
    "        #     break\n",
    "    cap.release()\n",
    "    cv2.destroyAllWindows()\n",
    "else:\n",
    "    print(\"Unable to open camera\")"
   ]
  },
  {
   "cell_type": "code",
   "execution_count": null,
   "metadata": {},
   "outputs": [],
   "source": []
  }
 ],
 "metadata": {
  "kernelspec": {
   "display_name": "pytorch",
   "language": "python",
   "name": "python3"
  },
  "language_info": {
   "codemirror_mode": {
    "name": "ipython",
    "version": 3
   },
   "file_extension": ".py",
   "mimetype": "text/x-python",
   "name": "python",
   "nbconvert_exporter": "python",
   "pygments_lexer": "ipython3",
   "version": "3.11.4"
  },
  "orig_nbformat": 4
 },
 "nbformat": 4,
 "nbformat_minor": 2
}
